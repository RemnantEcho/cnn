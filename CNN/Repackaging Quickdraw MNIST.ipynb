{
 "cells": [
  {
   "cell_type": "code",
   "execution_count": 1,
   "metadata": {},
   "outputs": [],
   "source": [
    "# pip install quickdraw"
   ]
  },
  {
   "cell_type": "code",
   "execution_count": 2,
   "metadata": {},
   "outputs": [],
   "source": [
    "# from quickdraw import QuickDrawData\n",
    "# qd = QuickDrawData()\n",
    "\n",
    "\n",
    "# for i in range(2000):\n",
    "#     a = qd.get_drawing(\"bus\")\n",
    "#     a.image.save(\"img/bus\" + str(i+1) + \".gif\")"
   ]
  },
  {
   "cell_type": "markdown",
   "metadata": {},
   "source": [
    "The individual .npy files loaded below can be found packaged into a zip file called numpy_quickdraw_indv.zip "
   ]
  },
  {
   "cell_type": "code",
   "execution_count": 3,
   "metadata": {},
   "outputs": [],
   "source": [
    "import numpy as np\n",
    "\n",
    "d = np.load(\"full_numpy_bitmap_airplane.npy\")\n",
    "c = np.load(\"full_numpy_bitmap_ambulance.npy\")\n",
    "a = np.load(\"full_numpy_bitmap_bicycle.npy\")\n",
    "t = np.load(\"full_numpy_bitmap_bus.npy\")\n",
    "q = np.load(\"full_numpy_bitmap_car.npy\")\n",
    "w = np.load(\"full_numpy_bitmap_firetruck.npy\")\n",
    "e = np.load(\"full_numpy_bitmap_pickuptruck.npy\")\n",
    "r = np.load(\"full_numpy_bitmap_policecar.npy\")\n",
    "y = np.load(\"full_numpy_bitmap_sailboat.npy\")\n",
    "u = np.load(\"full_numpy_bitmap_aircraftcarrier.npy\")\n",
    "\n",
    "new_list = []\n",
    "for d_ in range (2000):\n",
    "    new_list.append(d[d_])\n",
    "\n",
    "for c_ in range (2000):\n",
    "    new_list.append(c[c_])\n",
    "    \n",
    "for a_ in range (2000):\n",
    "    new_list.append(a[a_])\n",
    "    \n",
    "for t_ in range (2000):\n",
    "    new_list.append(t[t_])\n",
    "    \n",
    "for q_ in range (2000):\n",
    "    new_list.append(q[q_])\n",
    "    \n",
    "for w_ in range (2000):\n",
    "    new_list.append(w[w_])\n",
    "    \n",
    "for e_ in range (2000):\n",
    "    new_list.append(e[e_])\n",
    "\n",
    "for r_ in range (2000):\n",
    "    new_list.append(r[r_])\n",
    "\n",
    "for y_ in range (2000):\n",
    "    new_list.append(y[y_])    \n",
    "\n",
    "for u_ in range (2000):\n",
    "    new_list.append(u[u_])\n",
    "    \n",
    "np.save('quickdraw_mnist.npy', new_list)"
   ]
  },
  {
   "cell_type": "code",
   "execution_count": 5,
   "metadata": {},
   "outputs": [
    {
     "name": "stdout",
     "output_type": "stream",
     "text": [
      "20000\n"
     ]
    }
   ],
   "source": [
    "m = np.load('quickdraw_mnist.npy')\n",
    "\n",
    "print(len(m))\n",
    "    \n",
    "# for m_ in range(len(m)):\n",
    "#     print(m[m_])"
   ]
  },
  {
   "cell_type": "code",
   "execution_count": 8,
   "metadata": {},
   "outputs": [
    {
     "data": {
      "image/png": "[encoded data removed]",
      "text/plain": [
       "<Figure size 432x288 with 1 Axes>"
      ]
     },
     "metadata": {
      "needs_background": "light"
     },
     "output_type": "display_data"
    }
   ],
   "source": [
    "import matplotlib.pyplot as plt\n",
    "\n",
    "img = m[0].reshape((28,28))\n",
    "\n",
    "plt.imshow(img, cmap=\"Greys\")\n",
    "plt.show()"
   ]
  },
  {
   "cell_type": "code",
   "execution_count": null,
   "metadata": {},
   "outputs": [],
   "source": []
  }
 ],
 "metadata": {
  "kernelspec": {
   "display_name": "Python 3",
   "language": "python",
   "name": "python3"
  },
  "language_info": {
   "codemirror_mode": {
    "name": "ipython",
    "version": 3
   },
   "file_extension": ".py",
   "mimetype": "text/x-python",
   "name": "python",
   "nbconvert_exporter": "python",
   "pygments_lexer": "ipython3",
   "version": "3.7.6"
  }
 },
 "nbformat": 4,
 "nbformat_minor": 4
}
